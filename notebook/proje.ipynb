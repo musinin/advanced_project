{
 "cells": [
  {
   "cell_type": "code",
   "execution_count": 4,
   "id": "a33195a5",
   "metadata": {},
   "outputs": [
    {
     "name": "stdout",
     "output_type": "stream",
     "text": [
      "모든 패키지 설치됨\n"
     ]
    }
   ],
   "source": [
    "try:\n",
    "    import flask\n",
    "    import flask_cors\n",
    "    import dotenv\n",
    "    import google.generativeai\n",
    "    print(\"모든 패키지 설치됨\")\n",
    "except ImportError as e:\n",
    "    print(f\"설치되지 않은 패키지: {e.name}\")"
   ]
  }
 ],
 "metadata": {
  "kernelspec": {
   "display_name": "python-env-311",
   "language": "python",
   "name": "python3"
  },
  "language_info": {
   "codemirror_mode": {
    "name": "ipython",
    "version": 3
   },
   "file_extension": ".py",
   "mimetype": "text/x-python",
   "name": "python",
   "nbconvert_exporter": "python",
   "pygments_lexer": "ipython3",
   "version": "3.11.11"
  }
 },
 "nbformat": 4,
 "nbformat_minor": 5
}
